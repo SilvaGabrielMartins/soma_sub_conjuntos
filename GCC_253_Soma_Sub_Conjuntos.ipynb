{
  "cells": [
    {
      "cell_type": "markdown",
      "source": [
        "#Soma de sub conjuntos de um vetor utilizando o exemplo disponibilizado no campus virtual"
      ],
      "metadata": {
        "id": "xij8KgBJ9fS2"
      }
    },
    {
      "cell_type": "markdown",
      "source": [
        "## Instalando biblioteca subsetsum e importando funções que serão utilizadas"
      ],
      "metadata": {
        "id": "d-VGq57B-HrG"
      }
    },
    {
      "cell_type": "code",
      "execution_count": 1,
      "metadata": {
        "colab": {
          "base_uri": "https://localhost:8080/"
        },
        "id": "39OxWcMO9OVg",
        "outputId": "3309b88f-86b4-4831-dcc5-92e5c613f30c"
      },
      "outputs": [
        {
          "output_type": "stream",
          "name": "stdout",
          "text": [
            "Looking in indexes: https://pypi.org/simple, https://us-python.pkg.dev/colab-wheels/public/simple/\n",
            "Requirement already satisfied: subsetsum in /usr/local/lib/python3.7/dist-packages (0.0.2)\n"
          ]
        }
      ],
      "source": [
        "!pip install subsetsum\n",
        "import subsetsum\n",
        "import random\n",
        "import numpy as np\n",
        "import time\n",
        "import matplotlib.pyplot as plt"
      ]
    },
    {
      "cell_type": "code",
      "source": [
        "arranjo_tempo_decidir = []\n",
        "arranjo_tempo_todos_sub_conjuntos = []"
      ],
      "metadata": {
        "id": "nYOT8LooEF-E"
      },
      "execution_count": 2,
      "outputs": []
    },
    {
      "cell_type": "markdown",
      "source": [
        "## Funções auxiliares"
      ],
      "metadata": {
        "id": "GBRrTTe8-lmX"
      }
    },
    {
      "cell_type": "code",
      "execution_count": 3,
      "metadata": {
        "id": "sUW8eYPxIcNT"
      },
      "outputs": [],
      "source": [
        "def arranjos_aleatorios(tamanho, menor_numero, maior_numero):\n",
        "  arranjo = []\n",
        "  for i in range(tamanho):\n",
        "    arranjo.append(random.randint(menor_numero, maior_numero))\n",
        "  return arranjo;"
      ]
    },
    {
      "cell_type": "markdown",
      "source": [
        "## Funções de decisão e contagem de subconjuntos"
      ],
      "metadata": {
        "id": "fLB3_hTfAJIg"
      }
    },
    {
      "cell_type": "code",
      "execution_count": 4,
      "metadata": {
        "id": "401rFEfj9Sta"
      },
      "outputs": [],
      "source": [
        "def decidir_soma_sub_conjuntos(conjunto, valor_soma):\n",
        "  inicio = time.time()\n",
        "  target = valor_soma\n",
        "  nums = conjunto\n",
        "  has_solution = subsetsum.has_solution(nums, target)\n",
        "  fim = time.time()\n",
        "  tempo_execucao = fim-inicio\n",
        "  return tempo_execucao\n",
        "  #print(f\"O conjunto: {nums} onde a soma é: {target} tem solução? {has_solution}\")"
      ]
    },
    {
      "cell_type": "code",
      "execution_count": 5,
      "metadata": {
        "id": "S1TyiJ4X9Uwf"
      },
      "outputs": [],
      "source": [
        "def todos_conjuntos_soma(nums, target):\n",
        "  inicio = time.time()\n",
        "  for solution in subsetsum.solutions(nums, target):\n",
        "    subset = [nums[i] for i in solution]\n",
        "    sum_value=sum(subset)\n",
        "  fim = time.time()\n",
        "  tempo_execucao = fim-inicio\n",
        "  return tempo_execucao\n",
        "    #print(f\"{subset} se somados, reulta em: {sum_value}\")"
      ]
    },
    {
      "cell_type": "code",
      "source": [
        "tamanho_entrada = 1\n",
        "while tamanho_entrada <= 20:\n",
        "  arranjo = arranjos_aleatorios(tamanho_entrada, -2, 2)\n",
        "  arranjo_tempo_decidir.append(decidir_soma_sub_conjuntos(arranjo, 0))\n",
        "  arranjo_tempo_todos_sub_conjuntos.append(todos_conjuntos_soma(arranjo,0))\n",
        "  tamanho_entrada += 1\n",
        "print(arranjo_tempo_decidir)\n",
        "print(arranjo_tempo_todos_sub_conjuntos)"
      ],
      "metadata": {
        "colab": {
          "base_uri": "https://localhost:8080/"
        },
        "id": "goyATh9JEm5v",
        "outputId": "4777d7f6-2e8a-47b1-b502-eacd77f41792"
      },
      "execution_count": 6,
      "outputs": [
        {
          "output_type": "stream",
          "name": "stdout",
          "text": [
            "[1.5974044799804688e-05, 2.384185791015625e-06, 1.9073486328125e-06, 2.384185791015625e-06, 2.1457672119140625e-06, 2.384185791015625e-06, 2.384185791015625e-06, 2.384185791015625e-06, 4.76837158203125e-06, 2.6226043701171875e-06, 2.6226043701171875e-06, 2.384185791015625e-06, 3.337860107421875e-06, 4.76837158203125e-06, 7.152557373046875e-06, 8.344650268554688e-06, 7.867813110351562e-06, 7.3909759521484375e-06, 8.344650268554688e-06, 8.344650268554688e-06]\n",
            "[8.821487426757812e-06, 2.1457672119140625e-06, 4.291534423828125e-06, 6.9141387939453125e-06, 1.5974044799804688e-05, 8.58306884765625e-06, 1.5020370483398438e-05, 9.584426879882812e-05, 0.00010776519775390625, 0.00019931793212890625, 0.0004286766052246094, 0.0004336833953857422, 0.001123666763305664, 0.0036454200744628906, 0.007721662521362305, 0.016206979751586914, 0.022441625595092773, 0.07869672775268555, 0.11766409873962402, 0.028203725814819336]\n"
          ]
        }
      ]
    },
    {
      "cell_type": "code",
      "source": [
        "def plotar_grafico():\n",
        "    tamanho_arranjo = len(arranjo_tempo_decidir)\n",
        "    elemento = [i for i in range (1, tamanho_arranjo+1)]\n",
        "    plt.plot(elemento, arranjo_tempo_decidir, label = \"Até decidir\")\n",
        "    plt.plot(elemento, arranjo_tempo_todos_sub_conjuntos, label = \"Até gerar todos os sub-conjuntos\")\n",
        "    plt.xlabel('Quatidade de elementos')\n",
        "    plt.ylabel('Tempo gasto')\n",
        "    plt.title(\"Soma de Sub Conjuntos\")\n",
        "    plt.legend()\n",
        "    plt.show()"
      ],
      "metadata": {
        "id": "3FLdfbPbGSLf"
      },
      "execution_count": 7,
      "outputs": []
    },
    {
      "cell_type": "code",
      "source": [
        "plotar_grafico()"
      ],
      "metadata": {
        "colab": {
          "base_uri": "https://localhost:8080/",
          "height": 295
        },
        "id": "Lf3z2Q8sHNRJ",
        "outputId": "e53d520e-2c17-47f7-9769-56a0fa199561"
      },
      "execution_count": 8,
      "outputs": [
        {
          "output_type": "display_data",
          "data": {
            "text/plain": [
              "<Figure size 432x288 with 1 Axes>"
            ],
            "image/png": "[encoded data removed]"
          },
          "metadata": {
            "needs_background": "light"
          }
        }
      ]
    }
  ],
  "metadata": {
    "accelerator": "GPU",
    "colab": {
      "name": "GCC_253_Soma_Sub_Conjuntos.ipynb",
      "provenance": []
    },
    "gpuClass": "standard",
    "kernelspec": {
      "display_name": "Python 3",
      "name": "python3"
    },
    "language_info": {
      "name": "python"
    }
  },
  "nbformat": 4,
  "nbformat_minor": 0
}